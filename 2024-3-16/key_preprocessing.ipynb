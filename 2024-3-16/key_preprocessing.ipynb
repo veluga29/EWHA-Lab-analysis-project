{
  "cells": [
    {
      "cell_type": "code",
      "source": [
        "pip install konlpy"
      ],
      "metadata": {
        "colab": {
          "base_uri": "https://localhost:8080/"
        },
        "id": "kJ_14bcNQO9v",
        "outputId": "46c4c13b-636a-4807-8686-14413a3f3223"
      },
      "id": "kJ_14bcNQO9v",
      "execution_count": 1,
      "outputs": [
        {
          "output_type": "stream",
          "name": "stdout",
          "text": [
            "Collecting konlpy\n",
            "  Downloading konlpy-0.6.0-py2.py3-none-any.whl (19.4 MB)\n",
            "\u001b[2K     \u001b[90m━━━━━━━━━━━━━━━━━━━━━━━━━━━━━━━━━━━━━━━━\u001b[0m \u001b[32m19.4/19.4 MB\u001b[0m \u001b[31m31.0 MB/s\u001b[0m eta \u001b[36m0:00:00\u001b[0m\n",
            "\u001b[?25hCollecting JPype1>=0.7.0 (from konlpy)\n",
            "  Downloading JPype1-1.5.0-cp310-cp310-manylinux_2_17_x86_64.manylinux2014_x86_64.whl (488 kB)\n",
            "\u001b[2K     \u001b[90m━━━━━━━━━━━━━━━━━━━━━━━━━━━━━━━━━━━━━━━━\u001b[0m \u001b[32m488.6/488.6 kB\u001b[0m \u001b[31m23.1 MB/s\u001b[0m eta \u001b[36m0:00:00\u001b[0m\n",
            "\u001b[?25hRequirement already satisfied: lxml>=4.1.0 in /usr/local/lib/python3.10/dist-packages (from konlpy) (4.9.4)\n",
            "Requirement already satisfied: numpy>=1.6 in /usr/local/lib/python3.10/dist-packages (from konlpy) (1.25.2)\n",
            "Requirement already satisfied: packaging in /usr/local/lib/python3.10/dist-packages (from JPype1>=0.7.0->konlpy) (24.0)\n",
            "Installing collected packages: JPype1, konlpy\n",
            "Successfully installed JPype1-1.5.0 konlpy-0.6.0\n"
          ]
        }
      ]
    },
    {
      "cell_type": "code",
      "source": [
        "pip install pandas"
      ],
      "metadata": {
        "colab": {
          "base_uri": "https://localhost:8080/"
        },
        "id": "6JzyAn05QS7v",
        "outputId": "8fd32432-ab0f-47e7-a264-0535784cd0d6"
      },
      "id": "6JzyAn05QS7v",
      "execution_count": 2,
      "outputs": [
        {
          "output_type": "stream",
          "name": "stdout",
          "text": [
            "Requirement already satisfied: pandas in /usr/local/lib/python3.10/dist-packages (1.5.3)\n",
            "Requirement already satisfied: python-dateutil>=2.8.1 in /usr/local/lib/python3.10/dist-packages (from pandas) (2.8.2)\n",
            "Requirement already satisfied: pytz>=2020.1 in /usr/local/lib/python3.10/dist-packages (from pandas) (2023.4)\n",
            "Requirement already satisfied: numpy>=1.21.0 in /usr/local/lib/python3.10/dist-packages (from pandas) (1.25.2)\n",
            "Requirement already satisfied: six>=1.5 in /usr/local/lib/python3.10/dist-packages (from python-dateutil>=2.8.1->pandas) (1.16.0)\n"
          ]
        }
      ]
    },
    {
      "cell_type": "code",
      "source": [
        "pip install openpyxl"
      ],
      "metadata": {
        "colab": {
          "base_uri": "https://localhost:8080/"
        },
        "id": "VReXD7oeQV4N",
        "outputId": "b9215d89-f3bf-4c1c-dbc9-aee23f5d5f7f"
      },
      "id": "VReXD7oeQV4N",
      "execution_count": 3,
      "outputs": [
        {
          "output_type": "stream",
          "name": "stdout",
          "text": [
            "Requirement already satisfied: openpyxl in /usr/local/lib/python3.10/dist-packages (3.1.2)\n",
            "Requirement already satisfied: et-xmlfile in /usr/local/lib/python3.10/dist-packages (from openpyxl) (1.1.0)\n"
          ]
        }
      ]
    },
    {
      "cell_type": "code",
      "execution_count": 4,
      "id": "0c961b82-3d87-4e95-bfe6-78c96499bced",
      "metadata": {
        "id": "0c961b82-3d87-4e95-bfe6-78c96499bced"
      },
      "outputs": [],
      "source": [
        "from konlpy.tag import Kkma"
      ]
    },
    {
      "cell_type": "code",
      "execution_count": 5,
      "id": "ed62ce1e-aa4a-46cd-838d-26b061f2a1c0",
      "metadata": {
        "id": "ed62ce1e-aa4a-46cd-838d-26b061f2a1c0"
      },
      "outputs": [],
      "source": [
        "kkma = Kkma()"
      ]
    },
    {
      "cell_type": "code",
      "source": [
        "target_words = [\n",
        "    \"연필\", \"자\", \"가위\", \"망치\", \"톱\", \"칫솔\", \"빗\", \"숟가락\", \"국자\", \"칼\",\n",
        "    \"사과\", \"주스\", \"빵\", \"바지\", \"양말\", \"모자\", \"장갑\", \"선풍기\", \"편지\", \"달력\", \"의자\",\n",
        "    \"고양이\", \"사자\", \"이모\", \"삼촌\", \"누나\", \"동생\", \"소방관\", \"가수\", \"말\"\n",
        "]"
      ],
      "metadata": {
        "id": "NYLMxkv6PMx9"
      },
      "id": "NYLMxkv6PMx9",
      "execution_count": 79,
      "outputs": []
    },
    {
      "cell_type": "code",
      "source": [
        "import pandas as pd"
      ],
      "metadata": {
        "id": "5Yd2A1uoQu7m"
      },
      "id": "5Yd2A1uoQu7m",
      "execution_count": 80,
      "outputs": []
    },
    {
      "cell_type": "code",
      "execution_count": 81,
      "id": "df921ad0-c7eb-4d45-8b5d-0e883bcd810e",
      "metadata": {
        "scrolled": true,
        "id": "df921ad0-c7eb-4d45-8b5d-0e883bcd810e"
      },
      "outputs": [],
      "source": [
        "# 파일명\n",
        "xls = pd.ExcelFile('penciltree_old_0316_new.xlsx')\n",
        "\n",
        "# Daraframe형식으로 엑셀 파일 읽기\n",
        "df = pd.read_excel(xls, engine='openpyxl', sheet_name=target_words)"
      ]
    },
    {
      "cell_type": "code",
      "source": [
        "tagset = [\"JKM\", \"NNG\", \"JKO\", \"JKS\", \"JX\", \"JC\", \"EFN\", \"SF\", \"VCP\", \"JKG\", \"ECE\", \"XSV\"]"
      ],
      "metadata": {
        "id": "IptaS52nSJrE"
      },
      "id": "IptaS52nSJrE",
      "execution_count": 82,
      "outputs": []
    },
    {
      "cell_type": "code",
      "source": [
        "from collections import defaultdict\n",
        "\n",
        "\n",
        "def get_columns(tagset, target_word, texts):\n",
        "    columns = {tag: list() for tag in tagset}\n",
        "\n",
        "    for i, text in enumerate(texts):\n",
        "        tag_dict = defaultdict(str)\n",
        "        is_key_exist = False\n",
        "\n",
        "        if isinstance(text, float):\n",
        "            for tag in columns.keys():\n",
        "                columns[tag].append(None)\n",
        "            continue\n",
        "\n",
        "        morphs = kkma.pos(text)\n",
        "\n",
        "        for idx, (morph, tag) in enumerate(morphs):\n",
        "            # 조사가 있을 때\n",
        "            if tag in tagset and target_word in morphs[idx-1][0]:\n",
        "                if not tag_dict[tag]:\n",
        "                    tag_dict[tag] = morph\n",
        "                else:\n",
        "                    tag_dict[tag] += \", \" + morph\n",
        "\n",
        "        for tag in columns.keys():\n",
        "            if val := tag_dict.get(tag):\n",
        "                columns[tag].append(val)\n",
        "            else:\n",
        "                columns[tag].append(None)\n",
        "\n",
        "    return columns"
      ],
      "metadata": {
        "id": "bcW3UqRQRtEy"
      },
      "id": "bcW3UqRQRtEy",
      "execution_count": 83,
      "outputs": []
    },
    {
      "cell_type": "code",
      "source": [
        "for word in target_words:\n",
        "    print(f\"{word} sheet processing...\")\n",
        "    texts = df[word][\"목표명사\"]\n",
        "    columns = get_columns(tagset, word, texts)\n",
        "\n",
        "    for tag, value in columns.items():\n",
        "        df[word][tag] = value\n",
        "print(\"Proccess Completed\")"
      ],
      "metadata": {
        "colab": {
          "base_uri": "https://localhost:8080/"
        },
        "id": "h7RydvueQ6Yj",
        "outputId": "bf3f9105-f959-47c7-860e-8155d3799d98"
      },
      "id": "h7RydvueQ6Yj",
      "execution_count": 84,
      "outputs": [
        {
          "output_type": "stream",
          "name": "stdout",
          "text": [
            "연필 sheet processing...\n",
            "자 sheet processing...\n",
            "가위 sheet processing...\n",
            "망치 sheet processing...\n",
            "톱 sheet processing...\n",
            "칫솔 sheet processing...\n",
            "빗 sheet processing...\n",
            "숟가락 sheet processing...\n",
            "국자 sheet processing...\n",
            "칼 sheet processing...\n",
            "사과 sheet processing...\n",
            "주스 sheet processing...\n",
            "빵 sheet processing...\n",
            "바지 sheet processing...\n",
            "양말 sheet processing...\n",
            "모자 sheet processing...\n",
            "장갑 sheet processing...\n",
            "선풍기 sheet processing...\n",
            "편지 sheet processing...\n",
            "달력 sheet processing...\n",
            "의자 sheet processing...\n",
            "고양이 sheet processing...\n",
            "사자 sheet processing...\n",
            "이모 sheet processing...\n",
            "삼촌 sheet processing...\n",
            "누나 sheet processing...\n",
            "동생 sheet processing...\n",
            "소방관 sheet processing...\n",
            "가수 sheet processing...\n",
            "말 sheet processing...\n",
            "Proccess Completed\n"
          ]
        }
      ]
    },
    {
      "cell_type": "code",
      "source": [
        "# 엑셀 생성\n",
        "import os\n",
        "\n",
        "dir_name = \"result_pp\"\n",
        "file_name = \"old_result_postposition\"\n",
        "\n",
        "if not os.path.exists(dir_name):\n",
        "    os.mkdir(dir_name)\n",
        "\n",
        "for word in target_words:\n",
        "    pd.DataFrame(df[word]).to_excel(f'{dir_name}/{word}_{file_name}.xlsx', index=False)"
      ],
      "metadata": {
        "id": "jFsbti8iM-f5"
      },
      "id": "jFsbti8iM-f5",
      "execution_count": 85,
      "outputs": []
    },
    {
      "cell_type": "code",
      "source": [
        "from google.colab import drive\n",
        "drive.mount('/content/drive')"
      ],
      "metadata": {
        "colab": {
          "base_uri": "https://localhost:8080/"
        },
        "id": "IVGptp13iVxu",
        "outputId": "c8f746df-2e64-4904-fc54-7232c612d763"
      },
      "id": "IVGptp13iVxu",
      "execution_count": 87,
      "outputs": [
        {
          "output_type": "stream",
          "name": "stdout",
          "text": [
            "Mounted at /content/drive\n"
          ]
        }
      ]
    }
  ],
  "metadata": {
    "kernelspec": {
      "display_name": "Python 3 (ipykernel)",
      "language": "python",
      "name": "python3"
    },
    "language_info": {
      "codemirror_mode": {
        "name": "ipython",
        "version": 3
      },
      "file_extension": ".py",
      "mimetype": "text/x-python",
      "name": "python",
      "nbconvert_exporter": "python",
      "pygments_lexer": "ipython3",
      "version": "3.12.1"
    },
    "colab": {
      "provenance": []
    }
  },
  "nbformat": 4,
  "nbformat_minor": 5
}